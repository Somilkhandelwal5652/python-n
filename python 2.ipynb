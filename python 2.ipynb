{
 "cells": [
  {
   "cell_type": "code",
   "execution_count": 1,
   "id": "d2b5c69c-bb0e-462e-975d-9c85b4174e5a",
   "metadata": {},
   "outputs": [
    {
     "name": "stdout",
     "output_type": "stream",
     "text": [
      "hello world\n"
     ]
    }
   ],
   "source": [
    "print(\"hello world\")"
   ]
  },
  {
   "cell_type": "code",
   "execution_count": 2,
   "id": "b31f2c1f-f7d2-4910-bcaa-5458611e4466",
   "metadata": {},
   "outputs": [
    {
     "name": "stdout",
     "output_type": "stream",
     "text": [
      "140721505901272\n"
     ]
    }
   ],
   "source": [
    "x=10\n",
    "print(id(x))\n"
   ]
  },
  {
   "cell_type": "code",
   "execution_count": 3,
   "id": "7c4db16c-86d4-4559-80a9-9b7fc22f5d02",
   "metadata": {},
   "outputs": [
    {
     "name": "stdout",
     "output_type": "stream",
     "text": [
      "140721505901272\n"
     ]
    }
   ],
   "source": [
    "y=x\n",
    "print(id(y))"
   ]
  },
  {
   "cell_type": "code",
   "execution_count": 4,
   "id": "c570be76-6e96-4260-8b52-73d327956d1c",
   "metadata": {},
   "outputs": [
    {
     "data": {
      "text/plain": [
       "2.0"
      ]
     },
     "execution_count": 4,
     "metadata": {},
     "output_type": "execute_result"
    }
   ],
   "source": [
    "4/2"
   ]
  },
  {
   "cell_type": "markdown",
   "id": "162e862d-7e12-460a-8c4c-ee821d7e4e57",
   "metadata": {},
   "source": [
    "5//2\n"
   ]
  },
  {
   "cell_type": "code",
   "execution_count": 5,
   "id": "66d741a6-8081-48ad-8447-a8587ea16596",
   "metadata": {},
   "outputs": [
    {
     "data": {
      "text/plain": [
       "1"
      ]
     },
     "execution_count": 5,
     "metadata": {},
     "output_type": "execute_result"
    }
   ],
   "source": [
    "5//3"
   ]
  },
  {
   "cell_type": "code",
   "execution_count": 6,
   "id": "b402b253-ed23-48ac-babc-b56cf50d8a77",
   "metadata": {},
   "outputs": [
    {
     "data": {
      "text/plain": [
       "-2.3"
      ]
     },
     "execution_count": 6,
     "metadata": {},
     "output_type": "execute_result"
    }
   ],
   "source": [
    "-4.6/2"
   ]
  },
  {
   "cell_type": "code",
   "execution_count": 7,
   "id": "a2e797f7-39dc-49e1-a5cc-a0ced5e20685",
   "metadata": {},
   "outputs": [
    {
     "data": {
      "text/plain": [
       "-5.5"
      ]
     },
     "execution_count": 7,
     "metadata": {},
     "output_type": "execute_result"
    }
   ],
   "source": [
    "-11/2\n"
   ]
  },
  {
   "cell_type": "code",
   "execution_count": 8,
   "id": "44d80512-d9a1-4a22-a04d-3f9dfed53602",
   "metadata": {},
   "outputs": [
    {
     "data": {
      "text/plain": [
       "-5.5"
      ]
     },
     "execution_count": 8,
     "metadata": {},
     "output_type": "execute_result"
    }
   ],
   "source": [
    "-11/2\n"
   ]
  },
  {
   "cell_type": "code",
   "execution_count": 9,
   "id": "0ce3634c-3650-4457-952a-a2ce494074f5",
   "metadata": {},
   "outputs": [
    {
     "data": {
      "text/plain": [
       "-6"
      ]
     },
     "execution_count": 9,
     "metadata": {},
     "output_type": "execute_result"
    }
   ],
   "source": [
    "-11//2"
   ]
  },
  {
   "cell_type": "code",
   "execution_count": 10,
   "id": "370517cd-40b2-49dd-b807-4cfb8de57dc6",
   "metadata": {},
   "outputs": [],
   "source": [
    "x=5\n",
    "x//=5\n",
    "print(x)\n"
   ]
  },
  {
   "cell_type": "code",
   "execution_count": 11,
   "id": "c6181a35-9e56-4f86-b9f9-3ac7b4518dbc",
   "metadata": {},
   "outputs": [
    {
     "data": {
      "text/plain": [
       "224"
      ]
     },
     "execution_count": 11,
     "metadata": {},
     "output_type": "execute_result"
    }
   ],
   "source": [
    "14<<2*2"
   ]
  },
  {
   "cell_type": "markdown",
   "id": "4c7c3415-a9dc-474d-a85a-806955307602",
   "metadata": {},
   "source": [
    "14"
   ]
  }
 ],
 "metadata": {
  "kernelspec": {
   "display_name": "Python 3 (ipykernel)",
   "language": "python",
   "name": "python3"
  },
  "language_info": {
   "codemirror_mode": {
    "name": "ipython",
    "version": 3
   },
   "file_extension": ".py",
   "mimetype": "text/x-python",
   "name": "python",
   "nbconvert_exporter": "python",
   "pygments_lexer": "ipython3",
   "version": "3.12.3"
  }
 },
 "nbformat": 4,
 "nbformat_minor": 5
}
